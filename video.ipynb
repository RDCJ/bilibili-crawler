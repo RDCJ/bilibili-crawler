{
 "cells": [
  {
   "cell_type": "code",
   "execution_count": 1,
   "metadata": {},
   "outputs": [],
   "source": [
    "from bilibili_api import live,sync,user\n",
    "from bilibili_api import Credential\n",
    "from bilibili_api import settings\n",
    "from bilibili_api import video\n",
    "import pandas as pd"
   ]
  },
  {
   "cell_type": "markdown",
   "metadata": {},
   "source": [
    "登录信息"
   ]
  },
  {
   "cell_type": "code",
   "execution_count": 2,
   "metadata": {},
   "outputs": [],
   "source": [
    "credential = Credential(sessdata=\"d8b1f04b%2C1640432062%2C5d49c%2A61\",\n",
    "                        bili_jct=\"9999420149a121c37c31c43edee78310\",\n",
    "                        buvid3=\"B19F545E-73C0-47DC-9B4D-0E1A032BF7B034769infoc\")\n",
    "#谷歌浏览器（Chrome）\n",
    "#按 F12 打开开发者工具。\n",
    "#在工具窗口上方找到 Application 选项卡。\n",
    "#在左侧找到 Storage/Cookies，并选中任一b站域名，在右侧找到对应三项即可。"
   ]
  },
  {
   "cell_type": "markdown",
   "metadata": {},
   "source": [
    "设置代理"
   ]
  },
  {
   "cell_type": "code",
   "execution_count": 6,
   "metadata": {},
   "outputs": [],
   "source": [
    "key = 'DF854687'\n",
    "passwd = 'C88BCF9B84D5'\n",
    "proxyHost = \"125.125.236.22\"  #获取到的代理IP\n",
    "proxyPort = \"12488\"            #获取到的代理端口\n",
    "settings.proxy =  'http://{}:{}@{}:{}'.format(key, passwd, proxyHost, proxyPort)"
   ]
  },
  {
   "cell_type": "markdown",
   "metadata": {},
   "source": [
    "视频"
   ]
  },
  {
   "cell_type": "code",
   "execution_count": 4,
   "metadata": {},
   "outputs": [],
   "source": [
    "bv = \"BV1M34y1k7pG\"\n",
    "video_smp = video.Video(bvid=bv, credential=credential)"
   ]
  },
  {
   "cell_type": "code",
   "execution_count": 5,
   "metadata": {},
   "outputs": [],
   "source": [
    "info = await video_smp.get_info() #获取视频信息\n",
    "stat = await video_smp.get_stat() #获取视频统计数据（播放量，点赞数等)\n",
    "tags = await video_smp.get_tags() #获取标签\n",
    "danmakus = await video_smp.get_danmakus(page_index=0) #获取弹幕\n"
   ]
  },
  {
   "cell_type": "code",
   "execution_count": 15,
   "metadata": {},
   "outputs": [
    {
     "data": {
      "text/plain": [
       "{'bvid': 'BV1pT4y1S7a8',\n",
       " 'aid': 936960592,\n",
       " 'videos': 1,\n",
       " 'tid': 172,\n",
       " 'tname': '手机游戏',\n",
       " 'copyright': 1,\n",
       " 'pic': 'http://i1.hdslb.com/bfs/archive/fd78139830c9d8c10a4fef91e5fcc48955f203e7.jpg',\n",
       " 'title': '[原神  神工天巧]论我与自己建的秘境的纠缠',\n",
       " 'pubdate': 1646203784,\n",
       " 'ctime': 1646203785,\n",
       " 'desc': '秘境的编号在视频里有，有兴趣的可以去试一试。',\n",
       " 'desc_v2': [{'raw_text': '秘境的编号在视频里有，有兴趣的可以去试一试。', 'type': 1, 'biz_id': 0}],\n",
       " 'state': 0,\n",
       " 'duration': 430,\n",
       " 'rights': {'bp': 0,\n",
       "  'elec': 0,\n",
       "  'download': 1,\n",
       "  'movie': 0,\n",
       "  'pay': 0,\n",
       "  'hd5': 1,\n",
       "  'no_reprint': 1,\n",
       "  'autoplay': 1,\n",
       "  'ugc_pay': 0,\n",
       "  'is_cooperation': 0,\n",
       "  'ugc_pay_preview': 0,\n",
       "  'no_background': 0,\n",
       "  'clean_mode': 0,\n",
       "  'is_stein_gate': 0,\n",
       "  'is_360': 0,\n",
       "  'no_share': 0},\n",
       " 'owner': {'mid': 610063760,\n",
       "  'name': 'Ryanbop',\n",
       "  'face': 'http://i2.hdslb.com/bfs/face/eb101ef90ebc4e9bf79f65312a22ebac84946700.jpg'},\n",
       " 'stat': {'aid': 936960592,\n",
       "  'view': 2917,\n",
       "  'danmaku': 0,\n",
       "  'reply': 66,\n",
       "  'favorite': 1,\n",
       "  'coin': 2,\n",
       "  'share': 2,\n",
       "  'now_rank': 0,\n",
       "  'his_rank': 0,\n",
       "  'like': 39,\n",
       "  'dislike': 0,\n",
       "  'evaluation': '',\n",
       "  'argue_msg': ''},\n",
       " 'dynamic': '',\n",
       " 'cid': 700517566,\n",
       " 'dimension': {'width': 2160, 'height': 1080, 'rotate': 0},\n",
       " 'no_cache': False,\n",
       " 'pages': [{'cid': 700517566,\n",
       "   'page': 1,\n",
       "   'from': 'vupload',\n",
       "   'part': '1646201121394.mp4',\n",
       "   'duration': 430,\n",
       "   'vid': '',\n",
       "   'weblink': '',\n",
       "   'dimension': {'width': 2160, 'height': 1080, 'rotate': 0},\n",
       "   'first_frame': 'http://i2.hdslb.com/bfs/storyff/n220302qn5dj4cj87echw2sad67tj4rb_firsti.jpg'}],\n",
       " 'subtitle': {'allow_submit': False, 'list': []},\n",
       " 'is_season_display': False,\n",
       " 'user_garb': {'url_image_ani_cut': ''},\n",
       " 'honor_reply': {}}"
      ]
     },
     "execution_count": 15,
     "metadata": {},
     "output_type": "execute_result"
    }
   ],
   "source": [
    "info"
   ]
  },
  {
   "cell_type": "code",
   "execution_count": 14,
   "metadata": {},
   "outputs": [],
   "source": [
    "danmakus = [str(x) for x in danmakus]\n",
    "with open(\"danmaku.txt\",\"w\") as f:\n",
    "    f.writelines(danmakus)\n",
    "f.close()"
   ]
  },
  {
   "cell_type": "code",
   "execution_count": 16,
   "metadata": {},
   "outputs": [
    {
     "data": {
      "text/plain": [
       "['1645761643, 269.673, 教教上维基百科',\n",
       " '1645789834, 104.254, 加强刻晴',\n",
       " '1645868980, 229.405, ←饭圈营销可以@开心的阿牧',\n",
       " '1645869540, 116.327, 阿晴他们都是骗你的',\n",
       " '1645879103, 125.179, 服务器对比其他游戏来说算可以的',\n",
       " '1645884069, 357.419, 我觉得是游戏玩我。。',\n",
       " '1645888400, 358.459, ←那是因为你投入过分了',\n",
       " '1645888653, 28.819, 原来你也。。',\n",
       " '1645929674, 21.559, 音质爆炸',\n",
       " '1645929723, 50.839, 草']"
      ]
     },
     "execution_count": 16,
     "metadata": {},
     "output_type": "execute_result"
    }
   ],
   "source": [
    "danmakus[0:10]"
   ]
  }
 ],
 "metadata": {
  "interpreter": {
   "hash": "07efdcd4b820c98a756949507a4d29d7862823915ec7477944641bea022f4f62"
  },
  "kernelspec": {
   "display_name": "Python 3.8.8 ('base')",
   "language": "python",
   "name": "python3"
  },
  "language_info": {
   "codemirror_mode": {
    "name": "ipython",
    "version": 3
   },
   "file_extension": ".py",
   "mimetype": "text/x-python",
   "name": "python",
   "nbconvert_exporter": "python",
   "pygments_lexer": "ipython3",
   "version": "3.8.8"
  },
  "orig_nbformat": 4
 },
 "nbformat": 4,
 "nbformat_minor": 2
}
